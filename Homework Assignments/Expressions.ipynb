{
  "nbformat": 4,
  "nbformat_minor": 0,
  "metadata": {
    "colab": {
      "provenance": []
    },
    "kernelspec": {
      "name": "python3",
      "display_name": "Python 3"
    },
    "language_info": {
      "name": "python"
    }
  },
  "cells": [
    {
      "cell_type": "markdown",
      "source": [
        "Program: dicesimulator\n"
      ],
      "metadata": {
        "id": "Qr9iVxAL_3AN"
      }
    },
    {
      "cell_type": "code",
      "source": [
        "import random\n",
        "\n",
        "def roll_dice():\n",
        "    dice1 = random.randint(1, 6)\n",
        "    dice2 = random.randint(1, 6)\n",
        "    print(f\"Rolled: Dice 1 = {dice1}, Dice 2 = {dice2}\")\n",
        "    print(f\"Total: {dice1 + dice2}\")\n",
        "\n",
        "def simulate_rolls():\n",
        "    for i in range(3):\n",
        "        print(f\"Roll {i + 1}:\")\n",
        "        roll_dice()\n",
        "        print(\"\\n\")\n",
        "\n",
        "simulate_rolls()\n"
      ],
      "metadata": {
        "colab": {
          "base_uri": "https://localhost:8080/"
        },
        "id": "JPkrpg2FDMVP",
        "outputId": "d5310780-be80-43b5-afa0-b548d58d1b8c"
      },
      "execution_count": 6,
      "outputs": [
        {
          "output_type": "stream",
          "name": "stdout",
          "text": [
            "Roll 1:\n",
            "Rolled: Dice 1 = 5, Dice 2 = 1\n",
            "Total: 6\n",
            "\n",
            "\n",
            "Roll 2:\n",
            "Rolled: Dice 1 = 6, Dice 2 = 4\n",
            "Total: 10\n",
            "\n",
            "\n",
            "Roll 3:\n",
            "Rolled: Dice 1 = 2, Dice 2 = 2\n",
            "Total: 4\n",
            "\n",
            "\n"
          ]
        }
      ]
    },
    {
      "cell_type": "markdown",
      "source": [
        "Program: e=mc2"
      ],
      "metadata": {
        "id": "XQQrX_RdGHZa"
      }
    },
    {
      "cell_type": "code",
      "source": [
        "C = 299792458\n",
        "mass = float(input(\"Enter the mass of the object in kilograms: \"))\n",
        "energy = mass * C**2\n",
        "print('Formula: E = mc^2')\n",
        "print('m = '+ str(mass) + ' kg')\n",
        "print('C = ' + str(C) + ' m/s')\n",
        "\n",
        "print(f\"The energy equivalent to {mass} kg of mass is {energy: .2e} joules.\")"
      ],
      "metadata": {
        "colab": {
          "base_uri": "https://localhost:8080/"
        },
        "id": "LDAAFFi-Gzoe",
        "outputId": "6c61609e-0793-49c0-840f-45c74134d338"
      },
      "execution_count": 13,
      "outputs": [
        {
          "output_type": "stream",
          "name": "stdout",
          "text": [
            "Enter the mass of the object in kilograms: 12\n",
            "Formula: E = mc^2\n",
            "m = 12.0 kg\n",
            "C = 299792458 m/s\n",
            "The energy equivalent to 12.0 kg of mass is  1.08e+18 joules.\n"
          ]
        }
      ]
    },
    {
      "cell_type": "markdown",
      "source": [
        "Program: feet_to_inches"
      ],
      "metadata": {
        "id": "pXpAUTpAJ2KZ"
      }
    },
    {
      "cell_type": "code",
      "source": [
        "conversion = 12\n",
        "feet = float(input(\"Enter the length in feet: \"))\n",
        "inches = feet * conversion\n",
        "print(f\"{feet} feet is equal to {inches} inches.\")"
      ],
      "metadata": {
        "colab": {
          "base_uri": "https://localhost:8080/"
        },
        "id": "U-GIB7XAMD1N",
        "outputId": "9caa083a-3ab1-45e3-da89-fe3d02c1a2d1"
      },
      "execution_count": 14,
      "outputs": [
        {
          "output_type": "stream",
          "name": "stdout",
          "text": [
            "Enter the length in feet: 45\n",
            "45.0 feet is equal to 540.0 inches.\n"
          ]
        }
      ]
    },
    {
      "cell_type": "markdown",
      "source": [
        "Program: pythagorean_theorem"
      ],
      "metadata": {
        "id": "8Ql6PYIfMQg4"
      }
    },
    {
      "cell_type": "code",
      "source": [
        "import math\n",
        "def main():\n",
        "    ab = float(input(\"Enter the length of side AB(Base): \"))\n",
        "    ac = float(input(\"Enter the length of side AC(Perpendicular): \"))\n",
        "    bc = math.sqrt(ab**2 + ac**2)\n",
        "    print(f\"The length of side BC(Hypotenuse) is {bc:.2f}.\")\n",
        "\n",
        "\n",
        "# This provided line is required at the end of\n",
        "# Python file to call the main() function.\n",
        "if __name__ == '__main__':\n",
        "    main()"
      ],
      "metadata": {
        "colab": {
          "base_uri": "https://localhost:8080/"
        },
        "id": "KPO85vmcMWSJ",
        "outputId": "db867def-6f85-4130-f964-69c11af0b3d3"
      },
      "execution_count": 16,
      "outputs": [
        {
          "output_type": "stream",
          "name": "stdout",
          "text": [
            "Enter the length of side AB(Base): 3\n",
            "Enter the length of side AC(Perpendicular): 4\n",
            "The length of side BC(Hypotenuse) is 5.00.\n"
          ]
        }
      ]
    },
    {
      "cell_type": "markdown",
      "source": [
        "Program: remainder_division"
      ],
      "metadata": {
        "id": "pvPQcbZ9N0-0"
      }
    },
    {
      "cell_type": "markdown",
      "source": [
        "Program: remainder_division"
      ],
      "metadata": {
        "id": "T37b1aJFQTUL"
      }
    },
    {
      "cell_type": "code",
      "source": [
        "def main():\n",
        "\n",
        "  dividend_number = int(input(\"Enter the dividend number: \"))\n",
        "  divisor = int(input(\"Enter the divisor: \"))\n",
        "  division = dividend_number // divisor\n",
        "  remainder = dividend_number % divisor\n",
        "  print(f\"The division of {dividend_number} by {divisor} is {division}.\")\n",
        "  print(f\"The remainder of {dividend_number} divided by {divisor} is {remainder}.\")\n",
        "\n",
        "\n",
        "\n",
        "# This provided line is required at the end of\n",
        "# Python file to call the main() function.\n",
        "if __name__ == '__main__':\n",
        "    main()"
      ],
      "metadata": {
        "colab": {
          "base_uri": "https://localhost:8080/"
        },
        "id": "L7Xa-ZF4SQa4",
        "outputId": "2feef8e7-da83-442a-a021-01267b2c88a4"
      },
      "execution_count": 18,
      "outputs": [
        {
          "output_type": "stream",
          "name": "stdout",
          "text": [
            "Enter the dividend number: 5\n",
            "Enter the divisor: 3\n",
            "The division of 5 by 3 is 1.\n",
            "The remainder of 5 divided by 3 is 2.\n"
          ]
        }
      ]
    },
    {
      "cell_type": "markdown",
      "source": [
        "Program: rolldice"
      ],
      "metadata": {
        "id": "L_XTW759TJBU"
      }
    },
    {
      "cell_type": "code",
      "source": [
        "import random\n",
        "def main():\n",
        "      dice1 = random.randint(1, 6)\n",
        "      dice2 = random.randint(1, 6)\n",
        "      total = dice1 + dice2\n",
        "      print(\"A dice has 6 sides each\")\n",
        "\n",
        "      print(f\"Rolled: Dice 1 = {dice1}, Dice 2 = {dice2}\")\n",
        "      print(f\"Total: {total}\")\n",
        "\n",
        "\n",
        "\n",
        "# This provided line is required at the end of\n",
        "# Python file to call the main() function.\n",
        "if __name__ == '__main__':\n",
        "    main()"
      ],
      "metadata": {
        "colab": {
          "base_uri": "https://localhost:8080/"
        },
        "id": "WjHEz7tKTYDj",
        "outputId": "10836f80-d61e-49e9-83b3-a437e7a31174"
      },
      "execution_count": 19,
      "outputs": [
        {
          "output_type": "stream",
          "name": "stdout",
          "text": [
            "A dice has 6 sides each\n",
            "Rolled: Dice 1 = 6, Dice 2 = 1\n",
            "Total: 7\n"
          ]
        }
      ]
    },
    {
      "cell_type": "markdown",
      "source": [
        "Program: seconds_in_year"
      ],
      "metadata": {
        "id": "6B5V15UdUJy7"
      }
    },
    {
      "cell_type": "code",
      "source": [
        "def main():\n",
        "   days_in_year = 365\n",
        "   hours_in_day = 24\n",
        "   minutes_in_hour = 60\n",
        "   seconds_in_minute = 60\n",
        "   seconds_in_year = days_in_year * hours_in_day * minutes_in_hour * seconds_in_minute\n",
        "\n",
        "   print(f\"There are {seconds_in_year} seconds in a year.\")\n",
        "\n",
        "# This provided line is required at the end of\n",
        "# Python file to call the main() function.\n",
        "if __name__ == '__main__':\n",
        "    main()"
      ],
      "metadata": {
        "colab": {
          "base_uri": "https://localhost:8080/"
        },
        "id": "oZP_to8CUNv8",
        "outputId": "7ab7cfb2-5e26-405b-bdd8-2683011f9fb6"
      },
      "execution_count": 20,
      "outputs": [
        {
          "output_type": "stream",
          "name": "stdout",
          "text": [
            "There are 31536000 seconds in a year.\n"
          ]
        }
      ]
    },
    {
      "cell_type": "markdown",
      "source": [
        "Program: tiny_mad_lib"
      ],
      "metadata": {
        "id": "BzoSPoo5U72I"
      }
    },
    {
      "cell_type": "code",
      "source": [
        "def main():\n",
        "  adj = input(\"Enter an adjective: \")\n",
        "  verb = input(\"Enter a verb: \")\n",
        "  noun = input(\"Enter a noun: \")\n",
        "  print(\"The generated sentence is printed below:\")\n",
        "  print(f\"The {adj} dragon decided to {verb} the golden {noun} before sunset.\")\n",
        "\n",
        "\n",
        "# This provided line is required at the end of\n",
        "# Python file to call the main() function.\n",
        "if __name__ == '__main__':\n",
        "    main()"
      ],
      "metadata": {
        "colab": {
          "base_uri": "https://localhost:8080/"
        },
        "id": "vUmqHtd-VGJh",
        "outputId": "5a3ba60e-ae22-4941-b1b6-298a9f91c138"
      },
      "execution_count": 22,
      "outputs": [
        {
          "output_type": "stream",
          "name": "stdout",
          "text": [
            "Enter an adjective: furious\n",
            "Enter a verb: kill\n",
            "Enter a noun: Iron Man\n",
            "The generated sentence is printed below:\n",
            "The furious dragon decided to kill the golden Iron Man before sunset.\n"
          ]
        }
      ]
    }
  ]
}