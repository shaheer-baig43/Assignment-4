{
  "nbformat": 4,
  "nbformat_minor": 0,
  "metadata": {
    "colab": {
      "provenance": []
    },
    "kernelspec": {
      "name": "python3",
      "display_name": "Python 3"
    },
    "language_info": {
      "name": "python"
    }
  },
  "cells": [
    {
      "cell_type": "code",
      "source": [
        "Program: count_nums"
      ],
      "metadata": {
        "id": "VKzMqGRsaX75"
      },
      "execution_count": null,
      "outputs": []
    },
    {
      "cell_type": "code",
      "source": [
        "def get_nums():\n",
        "    user_numbers = []\n",
        "\n",
        "    while True:\n",
        "        user_input = input(\"Enter a number (or 'done' to finish): \")\n",
        "\n",
        "        if user_input.lower() == 'done':\n",
        "            break\n",
        "        num = int(user_input)\n",
        "        user_numbers.append(num)\n",
        "    return user_numbers\n",
        "\n",
        "\n",
        "def count_nums(user_numbers):\n",
        "    num_counts = {}\n",
        "    for num in user_numbers:\n",
        "        if num not in num_counts:\n",
        "            num_counts[num] = 1\n",
        "        else:\n",
        "            num_counts[num] += 1\n",
        "    return num_counts\n",
        "\n",
        "def print_counts(num_counts):\n",
        "    \"\"\"\n",
        "    Loop over the dictionary and print out each key and its value.\n",
        "    \"\"\"\n",
        "    for num in num_counts:\n",
        "        print(str(num) + \" appears \" + str(num_counts[num]) + \" times.\")\n",
        "\n",
        "\n",
        "def main():\n",
        "    user_numbers = get_nums()\n",
        "    num_counts = count_nums(user_numbers)\n",
        "    print_counts(num_counts)\n",
        "\n",
        "if __name__ == '__main__':\n",
        "    main()"
      ],
      "metadata": {
        "colab": {
          "base_uri": "https://localhost:8080/"
        },
        "id": "CkGq7XwUac3u",
        "outputId": "53a95f6a-6815-46a1-a786-0de181d7841e"
      },
      "execution_count": 5,
      "outputs": [
        {
          "output_type": "stream",
          "name": "stdout",
          "text": [
            "Enter a number (or 'done' to finish): 4\n",
            "Enter a number (or 'done' to finish): 5\n",
            "Enter a number (or 'done' to finish): 2\n",
            "Enter a number (or 'done' to finish): 5\n",
            "Enter a number (or 'done' to finish): 6\n",
            "Enter a number (or 'done' to finish): 8\n",
            "Enter a number (or 'done' to finish): 4\n",
            "Enter a number (or 'done' to finish): 2\n",
            "Enter a number (or 'done' to finish): 4\n",
            "Enter a number (or 'done' to finish): 7\n",
            "Enter a number (or 'done' to finish): 0\n",
            "Enter a number (or 'done' to finish): 8\n",
            "Enter a number (or 'done' to finish): 1\n",
            "Enter a number (or 'done' to finish): done\n",
            "4 appears 3 times.\n",
            "5 appears 2 times.\n",
            "2 appears 2 times.\n",
            "6 appears 1 times.\n",
            "8 appears 2 times.\n",
            "7 appears 1 times.\n",
            "0 appears 1 times.\n",
            "1 appears 1 times.\n"
          ]
        }
      ]
    },
    {
      "cell_type": "markdown",
      "source": [
        "Program: phonebook"
      ],
      "metadata": {
        "id": "88zYmpmRpsOW"
      }
    },
    {
      "cell_type": "code",
      "source": [
        "def read_phone_numbers():\n",
        "\n",
        "    phonebook = {}\n",
        "    while True:\n",
        "        name = input(\"Name: \")\n",
        "        if name == \"\":\n",
        "            break\n",
        "        number = input(\"Number: \")\n",
        "        phonebook[name] = number\n",
        "\n",
        "    return phonebook\n",
        "\n",
        "\n",
        "def print_phonebook(phonebook):\n",
        "    for name in phonebook:\n",
        "        print(str(name) + \" -> \" + str(phonebook[name]))\n",
        "\n",
        "\n",
        "def lookup_numbers(phonebook):\n",
        "    while True:\n",
        "        name = input(\"Enter name to lookup: \")\n",
        "        if name == \"\":\n",
        "            break\n",
        "        if name not in phonebook:\n",
        "            print(name + \" is not in the phonebook\")\n",
        "        else:\n",
        "            print(phonebook[name])\n",
        "\n",
        "\n",
        "def main():\n",
        "    phonebook = read_phone_numbers()\n",
        "    print_phonebook(phonebook)\n",
        "    lookup_numbers(phonebook)\n",
        "\n",
        "\n",
        "if __name__ == '__main__':\n",
        "    main()"
      ],
      "metadata": {
        "colab": {
          "base_uri": "https://localhost:8080/"
        },
        "id": "XZshyh4WqSd1",
        "outputId": "3a87f937-da51-4cdb-bb85-f5bfc5eb1e97"
      },
      "execution_count": 8,
      "outputs": [
        {
          "name": "stdout",
          "output_type": "stream",
          "text": [
            "Name: shaheer\n",
            "Number: 123456789\n",
            "Name: \n",
            "shaheer -> 123456789\n",
            "Enter name to lookup: shaheer\n",
            "123456789\n",
            "Enter name to lookup: \n"
          ]
        }
      ]
    },
    {
      "cell_type": "markdown",
      "source": [
        "Program: pop_up_shop"
      ],
      "metadata": {
        "id": "KJxH7XrnrUIC"
      }
    },
    {
      "cell_type": "code",
      "source": [
        "fruits = {\"apple\": 0.99, \"banana\": 0.49, \"orange\": 0.79, \"pear\": 0.69}\n",
        "\n",
        "\n",
        "for fruit in fruits:\n",
        "    total_cost = 0\n",
        "    price = fruits[fruit]\n",
        "    amount_bought = int(input(\"How many (\" + fruit + \") do you want to buy?: \"))\n",
        "    total_cost += (price * amount_bought)\n",
        "\n",
        "\n",
        "print(\"The total cost is $\" + str(total_cost))"
      ],
      "metadata": {
        "colab": {
          "base_uri": "https://localhost:8080/"
        },
        "id": "XD1qtMLUxFGT",
        "outputId": "0fb51d1b-31a0-4562-f3fb-05860e0c7038"
      },
      "execution_count": 12,
      "outputs": [
        {
          "output_type": "stream",
          "name": "stdout",
          "text": [
            "How many (apple) do you want to buy?: 3\n",
            "How many (banana) do you want to buy?: 4\n",
            "How many (orange) do you want to buy?: 5\n",
            "How many (pear) do you want to buy?: 6\n",
            "The total cost is $4.14\n"
          ]
        }
      ]
    },
    {
      "cell_type": "markdown",
      "source": [
        "Program: powerful_passwords"
      ],
      "metadata": {
        "id": "bO79BcT_yZG5"
      }
    },
    {
      "cell_type": "code",
      "source": [
        "from hashlib import sha256\n",
        "\n",
        "def login(email, stored_logins, password_to_check):\n",
        "\n",
        "    if stored_logins[email] == hash_password(password_to_check):\n",
        "        return True\n",
        "\n",
        "    return False\n",
        "\n",
        "def hash_password(password):\n",
        "\n",
        "    return sha256(password.encode()).hexdigest()\n",
        "\n",
        "def main():\n",
        "\n",
        "    stored_logins = {\n",
        "        \"example@gmail.com\": \"5e884898da28047151d0e56f8dc6292773603d0d6aabbdd62a11ef721d1542d8\",\n",
        "        \"code_in_placer@cip.org\": \"973607a4ae7b4cf7d96a100b0fb07e8519cc4f70441d41214a9f811577bb06cc\",\n",
        "        \"student@stanford.edu\": \"882c6df720fd99f5eebb1581a1cf975625cea8a160283011c0b9512bb56c95fb\"\n",
        "    }\n",
        "\n",
        "    print(login(\"example@gmail.com\", stored_logins, \"word\"))\n",
        "    print(login(\"example@gmail.com\", stored_logins, \"password\"))\n",
        "\n",
        "    print(login(\"code_in_placer@cip.org\", stored_logins, \"Karel\"))\n",
        "    print(login(\"code_in_placer@cip.org\", stored_logins, \"karel\"))\n",
        "\n",
        "    print(login(\"student@stanford.edu\", stored_logins, \"password\"))\n",
        "    print(login(\"student@stanford.edu\", stored_logins, \"123!456?789\"))\n",
        "\n",
        "\n",
        "if __name__ == '__main__':\n",
        "    main()"
      ],
      "metadata": {
        "colab": {
          "base_uri": "https://localhost:8080/"
        },
        "id": "kJ39Mgiw5F0j",
        "outputId": "d557bf89-0446-4e67-9109-e120e0920855"
      },
      "execution_count": 13,
      "outputs": [
        {
          "output_type": "stream",
          "name": "stdout",
          "text": [
            "False\n",
            "True\n",
            "False\n",
            "True\n",
            "False\n",
            "True\n"
          ]
        }
      ]
    }
  ]
}