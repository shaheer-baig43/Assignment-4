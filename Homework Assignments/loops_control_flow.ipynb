{
  "nbformat": 4,
  "nbformat_minor": 0,
  "metadata": {
    "colab": {
      "provenance": []
    },
    "kernelspec": {
      "name": "python3",
      "display_name": "Python 3"
    },
    "language_info": {
      "name": "python"
    }
  },
  "cells": [
    {
      "cell_type": "markdown",
      "source": [
        "Program: guess_my_number"
      ],
      "metadata": {
        "id": "ULFJrH_V8GdN"
      }
    },
    {
      "cell_type": "code",
      "source": [
        "import random\n",
        "\n",
        "\n",
        "def guess_the_number():\n",
        "\n",
        "    number = random.randint(1, 100)\n",
        "    guesses_left = 7\n",
        "\n",
        "    print(\"Welcome to Guess The Number Game (computer)!\")\n",
        "    print('I am thinking a number between 1 to 100...')\n",
        "\n",
        "\n",
        "    while guesses_left > 0:\n",
        "        print(f'\\n You have {guesses_left} guesses left')\n",
        "        try:\n",
        "           guess = int(input('Guess the number: '))\n",
        "        except ValueError:\n",
        "            print('Invalid input. Please enter a number')\n",
        "            continue\n",
        "\n",
        "\n",
        "\n",
        "        if guess > number :\n",
        "             print('Too High Number')\n",
        "\n",
        "        elif guess < number :\n",
        "             print('Too Low Number')\n",
        "\n",
        "        else :\n",
        "             print(f'Congratulations! You got the correct number in {guesses_left} out of 7 guesses')\n",
        "\n",
        "\n",
        "\n",
        "        guesses_left -= 1\n",
        "    if guesses_left == 0:\n",
        "        print(f'You ran out of tries. The number was {number}')\n",
        "\n",
        "guess_the_number()"
      ],
      "metadata": {
        "colab": {
          "base_uri": "https://localhost:8080/"
        },
        "id": "Zo1oqUAb8KxP",
        "outputId": "ea9f6708-8ece-42e8-926a-b7026c1a9c06"
      },
      "execution_count": 8,
      "outputs": [
        {
          "output_type": "stream",
          "name": "stdout",
          "text": [
            "Welcome to Guess The Number Game (computer)!\n",
            "I am thinking a number between 1 to 100...\n",
            "\n",
            " You have 7 guesses left\n",
            "Guess the number: 34\n",
            "Too Low Number\n",
            "\n",
            " You have 6 guesses left\n",
            "Guess the number: 34\n",
            "Too Low Number\n",
            "\n",
            " You have 5 guesses left\n",
            "Guess the number: 54\n",
            "Too Low Number\n",
            "\n",
            " You have 4 guesses left\n",
            "Guess the number: 23\n",
            "Too Low Number\n",
            "\n",
            " You have 3 guesses left\n",
            "Guess the number: 67\n",
            "Too Low Number\n",
            "\n",
            " You have 2 guesses left\n",
            "Guess the number: 65\n",
            "Too Low Number\n",
            "\n",
            " You have 1 guesses left\n",
            "Guess the number: 78\n",
            "Too High Number\n",
            "You ran out of tries. The number was 74\n"
          ]
        }
      ]
    },
    {
      "cell_type": "markdown",
      "source": [
        "Program: fibonacci"
      ],
      "metadata": {
        "id": "IoMkmi039lR-"
      }
    },
    {
      "cell_type": "code",
      "source": [
        "MAX_TERM_VALUE : int = 10000\n",
        "\n",
        "def main():\n",
        "    curr_term = 0\n",
        "    next_term = 1\n",
        "    while curr_term <= MAX_TERM_VALUE:\n",
        "        print(curr_term)\n",
        "        term_after_next = curr_term + next_term\n",
        "        curr_term = next_term\n",
        "        next_term = term_after_next\n",
        "\n",
        "\n",
        "if __name__ == '__main__':\n",
        "    main()"
      ],
      "metadata": {
        "colab": {
          "base_uri": "https://localhost:8080/"
        },
        "id": "MLO6kbZp-ODT",
        "outputId": "2ef2f9b4-054e-4930-cb45-09b3df5139c0"
      },
      "execution_count": 9,
      "outputs": [
        {
          "output_type": "stream",
          "name": "stdout",
          "text": [
            "0\n",
            "1\n",
            "1\n",
            "2\n",
            "3\n",
            "5\n",
            "8\n",
            "13\n",
            "21\n",
            "34\n",
            "55\n",
            "89\n",
            "144\n",
            "233\n",
            "377\n",
            "610\n",
            "987\n",
            "1597\n",
            "2584\n",
            "4181\n",
            "6765\n"
          ]
        }
      ]
    },
    {
      "cell_type": "markdown",
      "source": [
        "Program: print_events"
      ],
      "metadata": {
        "id": "yFI82Rzg-h4Y"
      }
    },
    {
      "cell_type": "code",
      "source": [
        "def main():\n",
        "  for i in range(0, 20):\n",
        "      print(i * 2)\n",
        "\n",
        "if __name__ == '__main__':\n",
        "  main()"
      ],
      "metadata": {
        "colab": {
          "base_uri": "https://localhost:8080/"
        },
        "id": "gYj_P9Ph_AxV",
        "outputId": "76ca8d97-8c2f-42e3-9a98-f78dfff3f3df"
      },
      "execution_count": 11,
      "outputs": [
        {
          "output_type": "stream",
          "name": "stdout",
          "text": [
            "0\n",
            "2\n",
            "4\n",
            "6\n",
            "8\n",
            "10\n",
            "12\n",
            "14\n",
            "16\n",
            "18\n",
            "20\n",
            "22\n",
            "24\n",
            "26\n",
            "28\n",
            "30\n",
            "32\n",
            "34\n",
            "36\n",
            "38\n"
          ]
        }
      ]
    },
    {
      "cell_type": "markdown",
      "source": [
        "Program: wholesome_machine"
      ],
      "metadata": {
        "id": "r89-6wXx_d5F"
      }
    },
    {
      "cell_type": "code",
      "source": [
        "affirmation = \"I am capable of doing anything I put my mind to.\"\n",
        "\n",
        "def main():\n",
        "  print(\"Please type the following affirmation.\" + affirmation)\n",
        "  user_input = input()\n",
        "  while user_input != affirmation:\n",
        "    print(\"That was not the correct affimation. Try again!\")\n",
        "    user_input = input()\n",
        "    if user_input == \"\":\n",
        "      break\n",
        "  print(\"Well done!\")\n",
        "\n",
        "if __name__ == '__main__':\n",
        "  main()"
      ],
      "metadata": {
        "colab": {
          "base_uri": "https://localhost:8080/"
        },
        "id": "roT6OVM-_j21",
        "outputId": "6523dff0-1e7d-4fbf-bb30-5cce93facee4"
      },
      "execution_count": 15,
      "outputs": [
        {
          "output_type": "stream",
          "name": "stdout",
          "text": [
            "Please type the following affirmation.I am capable of doing anything I put my mind to.\n",
            "i am capable of doing anything\n",
            "That was not the correct affimation. Try again!\n",
            "\n",
            "Well done!\n"
          ]
        }
      ]
    },
    {
      "cell_type": "markdown",
      "source": [
        "Program: lift_off"
      ],
      "metadata": {
        "id": "ngrH9fzcBrpE"
      }
    },
    {
      "cell_type": "code",
      "source": [
        "import time\n",
        "from IPython.display import clear_output\n",
        "\n",
        "def countdown_timer(seconds):\n",
        "    while seconds:\n",
        "        mins, secs = divmod(seconds, 60)\n",
        "        timer = f'{mins:02}:{secs:02}'\n",
        "        clear_output(wait=True)\n",
        "        print(timer)\n",
        "        time.sleep(1)\n",
        "        seconds -= 1\n",
        "\n",
        "    clear_output(wait=True)\n",
        "    print(\"Lift Off!\")\n",
        "\n",
        "seconds = 10\n",
        "countdown_timer(seconds)\n"
      ],
      "metadata": {
        "colab": {
          "base_uri": "https://localhost:8080/"
        },
        "id": "iH4-lVYvBuT-",
        "outputId": "06a4b9dd-94ad-48de-cd6a-866f7a370379"
      },
      "execution_count": 16,
      "outputs": [
        {
          "output_type": "stream",
          "name": "stdout",
          "text": [
            "Lift Off!\n"
          ]
        }
      ]
    },
    {
      "cell_type": "markdown",
      "source": [
        "Program: double_it"
      ],
      "metadata": {
        "id": "8LK7xLfjBwdL"
      }
    },
    {
      "cell_type": "code",
      "source": [
        "def main():\n",
        "  num = int(input(\"Enter a number: \"))\n",
        "  while num <= 100 :\n",
        "     num = num * 2\n",
        "     print(num)\n",
        "\n",
        "\n",
        "if __name__ == \"__main__\":\n",
        "    main()"
      ],
      "metadata": {
        "colab": {
          "base_uri": "https://localhost:8080/"
        },
        "id": "eoJCFsNLBz97",
        "outputId": "2c46df41-e676-45f2-ca4c-8b881b57c1b5"
      },
      "execution_count": 17,
      "outputs": [
        {
          "output_type": "stream",
          "name": "stdout",
          "text": [
            "Enter a number: 4\n",
            "8\n",
            "16\n",
            "32\n",
            "64\n",
            "128\n"
          ]
        }
      ]
    }
  ]
}