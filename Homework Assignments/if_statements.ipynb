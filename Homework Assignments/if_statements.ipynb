{
  "nbformat": 4,
  "nbformat_minor": 0,
  "metadata": {
    "colab": {
      "provenance": []
    },
    "kernelspec": {
      "name": "python3",
      "display_name": "Python 3"
    },
    "language_info": {
      "name": "python"
    }
  },
  "cells": [
    {
      "cell_type": "markdown",
      "source": [
        "Program: print_events"
      ],
      "metadata": {
        "id": "SvXGKrNRGqf9"
      }
    },
    {
      "cell_type": "code",
      "source": [
        "def main():\n",
        "  for i in range(0, 20):\n",
        "      print(i * 2)\n",
        "\n",
        "if __name__ == '__main__':\n",
        "  main()"
      ],
      "metadata": {
        "colab": {
          "base_uri": "https://localhost:8080/"
        },
        "id": "z0B6BHa6Cr5x",
        "outputId": "aefc1c51-388c-4fbd-ec16-5b66993a7ad4"
      },
      "execution_count": 1,
      "outputs": [
        {
          "output_type": "stream",
          "name": "stdout",
          "text": [
            "0\n",
            "2\n",
            "4\n",
            "6\n",
            "8\n",
            "10\n",
            "12\n",
            "14\n",
            "16\n",
            "18\n",
            "20\n",
            "22\n",
            "24\n",
            "26\n",
            "28\n",
            "30\n",
            "32\n",
            "34\n",
            "36\n",
            "38\n"
          ]
        }
      ]
    },
    {
      "cell_type": "markdown",
      "source": [
        "Program: international_voting_age"
      ],
      "metadata": {
        "id": "wb6VwfGhCyZj"
      }
    },
    {
      "cell_type": "code",
      "source": [
        "Peturksbouipo_age = 16\n",
        "Stanlau_age = 25\n",
        "Mayengua_age = 48\n",
        "\n",
        "def main():\n",
        "  user_age = int(input(\"Enter your age: \"))\n",
        "  if user_age >= Peturksbouipo_age:\n",
        "    print(\"You can vote in Peturksbouipo, where the voting age is 16\")\n",
        "  else:\n",
        "    print(\"You cannot vote in Peturksbouipo, where the voting age is 16\")\n",
        "  if user_age >= Stanlau_age:\n",
        "    print(\"You can vote in Stanlau, where the voting age is 25\")\n",
        "  else:\n",
        "    print(\"you cannot vote in Stanlau, where the voting age is 25\")\n",
        "  if user_age >= Mayengua_age:\n",
        "    print(\"You can vote in Mayengua, where the voting age is 48\")\n",
        "  else:\n",
        "    print(\"You cannot vote in Mayengua, where the voting age is 48\")\n",
        "\n",
        "if __name__ == '__main__':\n",
        "  main()"
      ],
      "metadata": {
        "colab": {
          "base_uri": "https://localhost:8080/"
        },
        "id": "e_-wH7s9DT0f",
        "outputId": "0b4e1395-ce17-4c3f-8ecf-7147450d88d7"
      },
      "execution_count": 2,
      "outputs": [
        {
          "output_type": "stream",
          "name": "stdout",
          "text": [
            "Enter your age: 17\n",
            "You can vote in Peturksbouipo, where the voting age is 16\n",
            "you cannot vote in Stanlau, where the voting age is 25\n",
            "You cannot vote in Mayengua, where the voting age is 48\n"
          ]
        }
      ]
    },
    {
      "cell_type": "markdown",
      "source": [
        "Program: leap_year"
      ],
      "metadata": {
        "id": "Wo6ByYksCnRu"
      }
    },
    {
      "cell_type": "code",
      "source": [
        "year = int(input(\"Enter a year: \"))\n",
        "\n",
        "def main():\n",
        "  if year % 4 == 0:\n",
        "    if year % 100 == 0:\n",
        "      if year % 400 == 0:\n",
        "        print(year, \"is a leap year\")\n",
        "      else:\n",
        "        print(year, \"is not a leap year\")\n",
        "    else:\n",
        "      print(year, \"is a leap year\")\n",
        "  else:\n",
        "    print(year, \"is not a leap year\")\n",
        "\n",
        "if __name__ == '__main__':\n",
        "  main()"
      ],
      "metadata": {
        "colab": {
          "base_uri": "https://localhost:8080/"
        },
        "id": "0bZ8I8PCE_tW",
        "outputId": "a9ba1835-de03-4986-df08-5dec10194696"
      },
      "execution_count": 3,
      "outputs": [
        {
          "output_type": "stream",
          "name": "stdout",
          "text": [
            "Enter a year: 2018\n",
            "2018 is not a leap year\n"
          ]
        }
      ]
    },
    {
      "cell_type": "markdown",
      "source": [
        "Program: tall_enough_to_ride"
      ],
      "metadata": {
        "id": "4Ss85NjdFbTE"
      }
    },
    {
      "cell_type": "code",
      "source": [
        "eligible_height = 50\n",
        "\n",
        "def main():\n",
        "  user_height = int(input(\"Enter your height: \"))\n",
        "  if user_height >= eligible_height:\n",
        "    print(\"You are tall enough to ride the roller coaster\")\n",
        "  else:\n",
        "    print(\"You are not tall enough to ride the roller coaster\")\n",
        "\n",
        "\n",
        "if __name__ == '__main__':\n",
        "    main()"
      ],
      "metadata": {
        "colab": {
          "base_uri": "https://localhost:8080/"
        },
        "id": "RAsr_8GQFnyd",
        "outputId": "81a10239-9fe1-4f75-c97e-df22df009ea5"
      },
      "execution_count": 9,
      "outputs": [
        {
          "output_type": "stream",
          "name": "stdout",
          "text": [
            "Enter your height: 70\n",
            "You are tall enough to ride the roller coaster\n"
          ]
        }
      ]
    },
    {
      "cell_type": "markdown",
      "source": [
        "Program: random_numbers"
      ],
      "metadata": {
        "id": "6BABXbXgGDcZ"
      }
    },
    {
      "cell_type": "code",
      "source": [
        "import random\n",
        "\n",
        "def main():\n",
        "  number_of_values = 0\n",
        "\n",
        "  while number_of_values < 10:\n",
        "      number = random.randint(1, 100)\n",
        "      print(number)\n",
        "      number_of_values += 1\n",
        "\n",
        "\n",
        "if __name__ == '__main__':\n",
        "    main()"
      ],
      "metadata": {
        "colab": {
          "base_uri": "https://localhost:8080/"
        },
        "id": "mVWKrwNlGbod",
        "outputId": "15b22627-0f76-4d18-b1b6-2c43b5deb3ba"
      },
      "execution_count": 10,
      "outputs": [
        {
          "output_type": "stream",
          "name": "stdout",
          "text": [
            "87\n",
            "21\n",
            "97\n",
            "38\n",
            "20\n",
            "8\n",
            "6\n",
            "36\n",
            "35\n",
            "43\n"
          ]
        }
      ]
    }
  ]
}