{
  "nbformat": 4,
  "nbformat_minor": 0,
  "metadata": {
    "colab": {
      "provenance": []
    },
    "kernelspec": {
      "name": "python3",
      "display_name": "Python 3"
    },
    "language_info": {
      "name": "python"
    }
  },
  "cells": [
    {
      "cell_type": "markdown",
      "source": [
        "Pogram: add_many_numbers"
      ],
      "metadata": {
        "id": "8aRNvkMRI1vK"
      }
    },
    {
      "cell_type": "code",
      "source": [
        "def add_many_numbers(numbers)-> int:\n",
        "\n",
        "\n",
        "    total_so_far: int = 0\n",
        "    for number in numbers:\n",
        "        total_so_far += number\n",
        "\n",
        "    return total_so_far\n",
        "\n",
        "\n",
        "def main():\n",
        "    numbers: list[int] = [1, 2, 3, 4, 5]\n",
        "    sum_of_numbers: int = add_many_numbers(numbers)\n",
        "    print(sum_of_numbers)\n",
        "\n",
        "\n",
        "if __name__ == '__main__':\n",
        "    main()"
      ],
      "metadata": {
        "colab": {
          "base_uri": "https://localhost:8080/"
        },
        "id": "Ao9IGcUMHvx8",
        "outputId": "255fb60b-8e75-43be-ef93-322f92384ee9"
      },
      "execution_count": 13,
      "outputs": [
        {
          "output_type": "stream",
          "name": "stdout",
          "text": [
            "15\n"
          ]
        }
      ]
    },
    {
      "cell_type": "markdown",
      "source": [
        "Program: double_list"
      ],
      "metadata": {
        "id": "oqSnSvvHL_8O"
      }
    },
    {
      "cell_type": "code",
      "source": [
        "numbers = [1,2,3,4]\n",
        "def main():\n",
        "  for i in range(len(numbers)):\n",
        "    elem = numbers[i]\n",
        "    numbers[i] = elem * 2\n",
        "\n",
        "  print(numbers)\n",
        "\n",
        "if __name__ == '__main__':\n",
        "    main()\n"
      ],
      "metadata": {
        "colab": {
          "base_uri": "https://localhost:8080/"
        },
        "id": "SKTJwC6JMSyZ",
        "outputId": "00151372-7422-472e-c687-dd8a896bbca5"
      },
      "execution_count": 15,
      "outputs": [
        {
          "output_type": "stream",
          "name": "stdout",
          "text": [
            "[2, 4, 6, 8]\n"
          ]
        }
      ]
    },
    {
      "cell_type": "markdown",
      "source": [
        "Program: get_first_element"
      ],
      "metadata": {
        "id": "JAvNAQS7MqZM"
      }
    },
    {
      "cell_type": "code",
      "source": [
        "def first_element(lst):\n",
        "  print(\"The first elem of list is \" + lst[0])\n",
        "\n",
        "def get_lst():\n",
        "  lst = []\n",
        "  elem = input(\"Please enter an element of the list or press enter to stop. \")\n",
        "  while elem != \"\":\n",
        "    lst.append(elem)\n",
        "    elem = input(\"Please enter an element of the list or press enter to stop. \")\n",
        "  return lst\n",
        "\n",
        "def main():\n",
        "  lst = get_lst()\n",
        "  first_element(lst)\n",
        "\n",
        "if __name__ == '__main__':\n",
        "    main()"
      ],
      "metadata": {
        "colab": {
          "base_uri": "https://localhost:8080/"
        },
        "id": "lRbnhmjWMvGf",
        "outputId": "9fed1255-5df9-4e5c-c398-fef906608733"
      },
      "execution_count": 16,
      "outputs": [
        {
          "output_type": "stream",
          "name": "stdout",
          "text": [
            "Please enter an element of the list or press enter to stop. 4\n",
            "Please enter an element of the list or press enter to stop. 2\n",
            "Please enter an element of the list or press enter to stop. 6\n",
            "Please enter an element of the list or press enter to stop. 1\n",
            "Please enter an element of the list or press enter to stop. \n",
            "4\n"
          ]
        }
      ]
    },
    {
      "cell_type": "markdown",
      "source": [
        "Program: get_last_element"
      ],
      "metadata": {
        "id": "TK1J-QjPOyZS"
      }
    },
    {
      "cell_type": "code",
      "source": [
        "def last_element(lst):\n",
        "  print(\"The last elem of list is \" + lst[-1])\n",
        "\n",
        "def get_lst():\n",
        "  lst = []\n",
        "  elem = input(\"Please enter an element of the list or press enter to stop. \")\n",
        "  while elem != \"\":\n",
        "    lst.append(elem)\n",
        "    elem = input(\"Please enter an element of the list or press enter to stop. \")\n",
        "  return lst\n",
        "\n",
        "def main():\n",
        "  lst = get_lst()\n",
        "  last_element(lst)\n",
        "\n",
        "if __name__ == '__main__':\n",
        "    main()"
      ],
      "metadata": {
        "colab": {
          "base_uri": "https://localhost:8080/"
        },
        "id": "PZS5pcHcPW9T",
        "outputId": "085ef964-8654-441e-eb61-845fb6a51680"
      },
      "execution_count": 17,
      "outputs": [
        {
          "output_type": "stream",
          "name": "stdout",
          "text": [
            "Please enter an element of the list or press enter to stop. 5\n",
            "Please enter an element of the list or press enter to stop. 9\n",
            "Please enter an element of the list or press enter to stop. 2\n",
            "Please enter an element of the list or press enter to stop. 0\n",
            "Please enter an element of the list or press enter to stop. 7\n",
            "Please enter an element of the list or press enter to stop. \n",
            "The last elem of list is 7\n"
          ]
        }
      ]
    },
    {
      "cell_type": "markdown",
      "source": [
        "Program: get_list"
      ],
      "metadata": {
        "id": "N-ze-e2vPoF4"
      }
    },
    {
      "cell_type": "code",
      "source": [
        "lst = []\n",
        "def main():\n",
        "  elem = input(\"Please enter an element of the list or press enter to stop. \")\n",
        "  while elem:\n",
        "    lst.append(elem)\n",
        "    elem = input(\"Please enter an element of the list or press enter to stop. \")\n",
        "\n",
        "  print(lst)\n",
        "\n",
        "if __name__ == '__main__':\n",
        "    main()\n"
      ],
      "metadata": {
        "colab": {
          "base_uri": "https://localhost:8080/"
        },
        "id": "5XKBdyhfP8u2",
        "outputId": "3a9fb302-1098-4844-acda-5833d608d335"
      },
      "execution_count": 23,
      "outputs": [
        {
          "output_type": "stream",
          "name": "stdout",
          "text": [
            "Please enter an element of the list or press enter to stop. 3\n",
            "Please enter an element of the list or press enter to stop. 8\n",
            "Please enter an element of the list or press enter to stop. 0\n",
            "Please enter an element of the list or press enter to stop. 5\n",
            "Please enter an element of the list or press enter to stop. 2\n",
            "Please enter an element of the list or press enter to stop. 1\n",
            "Please enter an element of the list or press enter to stop. 6\n",
            "Please enter an element of the list or press enter to stop. \n",
            "['3', '8', '0', '5', '2', '1', '6']\n"
          ]
        }
      ]
    },
    {
      "cell_type": "markdown",
      "source": [
        "Program: shorten_list"
      ],
      "metadata": {
        "id": "M_oveIQsQkyh"
      }
    },
    {
      "cell_type": "code",
      "source": [
        "max_length = 3\n",
        "def shorten_list(lst):\n",
        " while len(lst) > max_length:\n",
        "    last_element = lst.pop()\n",
        "    print(last_element + \" was removed from the list.\")\n",
        "\n",
        "def get_lst():\n",
        "  lst = []\n",
        "\n",
        "def get_lst():\n",
        "  lst = []\n",
        "  elem = input(\"Please enter an element of the list or press enter to stop. \")\n",
        "  while elem != \"\":\n",
        "    lst.append(elem)\n",
        "    elem = input(\"Please enter an element of the list or press enter to stop. \")\n",
        "  return lst\n",
        "\n",
        "def main():\n",
        "  lst = get_lst()\n",
        "  shorten_list(lst)\n",
        "\n",
        "if __name__ == '__main__':\n",
        "    main()\n"
      ],
      "metadata": {
        "colab": {
          "base_uri": "https://localhost:8080/"
        },
        "id": "979o1yaFQ74B",
        "outputId": "45e03faa-2a49-490f-e7f8-fb6c18c6e1de"
      },
      "execution_count": 26,
      "outputs": [
        {
          "output_type": "stream",
          "name": "stdout",
          "text": [
            "Please enter an element of the list or press enter to stop. 3\n",
            "Please enter an element of the list or press enter to stop. 5\n",
            "Please enter an element of the list or press enter to stop. 7\n",
            "Please enter an element of the list or press enter to stop. 2\n",
            "Please enter an element of the list or press enter to stop. 4\n",
            "Please enter an element of the list or press enter to stop. 6\n",
            "Please enter an element of the list or press enter to stop. 2\n",
            "Please enter an element of the list or press enter to stop. \n",
            "2 was removed from the list.\n",
            "6 was removed from the list.\n",
            "4 was removed from the list.\n",
            "2 was removed from the list.\n"
          ]
        }
      ]
    },
    {
      "cell_type": "markdown",
      "source": [
        "Program: flowing_with_data_structures"
      ],
      "metadata": {
        "id": "x5nTlbT9SQ0c"
      }
    },
    {
      "cell_type": "code",
      "source": [
        "def add_three_copies(my_list, data):\n",
        "    for i in range(3):\n",
        "        my_list.append(data)\n",
        "\n",
        "def main():\n",
        "    message = input(\"Enter a message to copy: \")\n",
        "    my_list = []\n",
        "    print(\"List before:\", my_list)\n",
        "    add_three_copies(my_list, message)\n",
        "    print(\"List after:\", my_list)\n",
        "\n",
        "if __name__ == \"__main__\":\n",
        "    main()"
      ],
      "metadata": {
        "colab": {
          "base_uri": "https://localhost:8080/"
        },
        "id": "00-h8pKbSSs-",
        "outputId": "70dc00ff-bcf5-41b0-9ab5-ad07dd06e59f"
      },
      "execution_count": 27,
      "outputs": [
        {
          "output_type": "stream",
          "name": "stdout",
          "text": [
            "Enter a message to copy: hello world\n",
            "List before: []\n",
            "List after: ['hello world', 'hello world', 'hello world']\n"
          ]
        }
      ]
    }
  ]
}