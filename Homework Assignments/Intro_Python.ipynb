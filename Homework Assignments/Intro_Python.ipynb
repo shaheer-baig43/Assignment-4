{
  "nbformat": 4,
  "nbformat_minor": 0,
  "metadata": {
    "colab": {
      "provenance": []
    },
    "kernelspec": {
      "name": "python3",
      "display_name": "Python 3"
    },
    "language_info": {
      "name": "python"
    }
  },
  "cells": [
    {
      "cell_type": "markdown",
      "source": [
        "Program: add2numbers"
      ],
      "metadata": {
        "id": "hszLlISdX0Xd"
      }
    },
    {
      "cell_type": "code",
      "source": [
        "num1 = float(input(\"Enter first number: \"))\n",
        "num2 = float(input(\"Enter second number: \"))\n",
        "\n",
        "# Add two numbers\n",
        "sum = num1 + num2\n",
        "print(f\"The sum of {num1} & {num2} is {sum}.\")"
      ],
      "metadata": {
        "colab": {
          "base_uri": "https://localhost:8080/"
        },
        "id": "TDa0pESeX4eX",
        "outputId": "90928aba-8f03-43d5-8285-72b85722609f"
      },
      "execution_count": 1,
      "outputs": [
        {
          "output_type": "stream",
          "name": "stdout",
          "text": [
            "Enter first number: 4.76\n",
            "Enter second number: 6.98\n",
            "The sum of 4.76 & 6.98 is 11.74.\n"
          ]
        }
      ]
    },
    {
      "cell_type": "markdown",
      "source": [
        "Program: agreement_bot"
      ],
      "metadata": {
        "id": "lsFisqJsYxL4"
      }
    },
    {
      "cell_type": "code",
      "source": [
        "def main():\n",
        "    question = str(input(\"What's your favorite animal? \"))\n",
        "    print(f\"Oh, My favourite animal is also {question}!\")\n",
        "\n",
        "# This provided line is required at the end of\n",
        "# Python file to call the main() function.\n",
        "if __name__ == '__main__':\n",
        "    main()"
      ],
      "metadata": {
        "colab": {
          "base_uri": "https://localhost:8080/"
        },
        "id": "FQDUfZqDcG3m",
        "outputId": "e21d6051-f51e-42fc-aba1-900013d8dd68"
      },
      "execution_count": 2,
      "outputs": [
        {
          "output_type": "stream",
          "name": "stdout",
          "text": [
            "What's your favorite animal? cow\n",
            "Oh, My favourite animal is also cow!\n"
          ]
        }
      ]
    },
    {
      "cell_type": "markdown",
      "source": [
        "Program: Fahrenheit_to_Celsius\n"
      ],
      "metadata": {
        "id": "b8BPszqidX8a"
      }
    },
    {
      "cell_type": "code",
      "source": [
        "def main():\n",
        "    fahrenheit = float(input(\"Enter temperature in Fahrenheit: \"))\n",
        "    celsius = (fahrenheit - 32) * 5.0 / 9.0\n",
        "    print(f\"{fahrenheit} Fahrenheit is equal to {celsius:.2f} Celsius.\")\n",
        "\n",
        "\n",
        "# This provided line is required at the end of\n",
        "# Python file to call the main() function.\n",
        "if __name__ == '__main__':\n",
        "    main()"
      ],
      "metadata": {
        "colab": {
          "base_uri": "https://localhost:8080/"
        },
        "id": "SufN3sNhexrX",
        "outputId": "7f208361-9c87-4b4f-a065-01a35448c32d"
      },
      "execution_count": 3,
      "outputs": [
        {
          "output_type": "stream",
          "name": "stdout",
          "text": [
            "Enter temperature in Fahrenheit: 300\n",
            "300.0 Fahrenheit is equal to 148.89 Celsius.\n"
          ]
        }
      ]
    },
    {
      "cell_type": "markdown",
      "source": [
        "Program: how_old_are_they"
      ],
      "metadata": {
        "id": "imN3LyHCfD77"
      }
    },
    {
      "cell_type": "code",
      "source": [
        "def main():\n",
        "   anton_age = 21\n",
        "   beth_age = anton_age + 6\n",
        "   chen_age = beth_age + 20\n",
        "   drew_age = chen_age + anton_age\n",
        "   ethan_age = chen_age\n",
        "   print(f\"Anton is {anton_age} years old.\\n\")\n",
        "   print(f\"Beth is {beth_age} years old.\\n\")\n",
        "   print(f\"Chen is {chen_age} years old.\\n\")\n",
        "   print(f\"Drew is {drew_age} years old.\\n\")\n",
        "   print(f\"Ethan is {ethan_age} years old.\\n\")\n",
        "\n",
        "# This provided line is required at the end of\n",
        "# Python file to call the main() function.\n",
        "if __name__ == '__main__':\n",
        "    main()"
      ],
      "metadata": {
        "colab": {
          "base_uri": "https://localhost:8080/"
        },
        "id": "tIFNcDBvflf0",
        "outputId": "13cbc624-95c5-4fb8-87ea-eeb8e349f133"
      },
      "execution_count": 8,
      "outputs": [
        {
          "output_type": "stream",
          "name": "stdout",
          "text": [
            "Anton is 21 years old.\n",
            "\n",
            "Beth is 27 years old.\n",
            "\n",
            "Chen is 47 years old.\n",
            "\n",
            "Drew is 68 years old.\n",
            "\n",
            "Ethan is 47 years old.\n",
            "\n"
          ]
        }
      ]
    },
    {
      "cell_type": "markdown",
      "source": [
        "Program: triangle_perimeter"
      ],
      "metadata": {
        "id": "68xUb_WBD0Nn"
      }
    },
    {
      "cell_type": "code",
      "source": [
        "def main():\n",
        "    side1 = float(input(\"What is the length of side 1? \"))\n",
        "    side2 = float(input(\"What is the length of side 2? \"))\n",
        "    side3 = float(input(\"What is the length of side 3? \"))\n",
        "    perimeter = side1 + side2 + side3\n",
        "    print(\"The perimeter of the triangle is \" + str(perimeter))\n",
        "\n",
        "\n",
        "if __name__ == '__main__':\n",
        "    main()"
      ],
      "metadata": {
        "colab": {
          "base_uri": "https://localhost:8080/"
        },
        "id": "6zjgMVL7D3J4",
        "outputId": "2e80fac3-0117-4e12-f770-080d9c14b0ac"
      },
      "execution_count": 3,
      "outputs": [
        {
          "output_type": "stream",
          "name": "stdout",
          "text": [
            "What is the length of side 1? 9\n",
            "What is the length of side 2? 90\n",
            "What is the length of side 3? 67\n",
            "The perimeter of the triangle is 166.0\n"
          ]
        }
      ]
    },
    {
      "cell_type": "markdown",
      "source": [
        "Program: square_number\n"
      ],
      "metadata": {
        "id": "ok4axtr2EiKX"
      }
    },
    {
      "cell_type": "code",
      "source": [
        "\n",
        "def main():\n",
        "    number = float(input(\"Enter a number: \"))\n",
        "    square = lambda number: number ** 2\n",
        "    print(\"The square of \" + str(number) + \" is \" + str(square(number)) + \" .\")\n",
        "\n",
        "\n",
        "# There is no need to edit code beyond this point\n",
        "\n",
        "if __name__ == '__main__':\n",
        "    main()\n"
      ],
      "metadata": {
        "colab": {
          "base_uri": "https://localhost:8080/"
        },
        "id": "CjS_QwthE64R",
        "outputId": "e8c934fb-5256-4184-f985-2a6bebfe4285"
      },
      "execution_count": 9,
      "outputs": [
        {
          "output_type": "stream",
          "name": "stdout",
          "text": [
            "Enter a number: 6\n",
            "The square of 6.0 is 36.0 .\n"
          ]
        }
      ]
    }
  ]
}