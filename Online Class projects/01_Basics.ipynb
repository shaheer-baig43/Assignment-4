{
  "nbformat": 4,
  "nbformat_minor": 0,
  "metadata": {
    "colab": {
      "provenance": []
    },
    "kernelspec": {
      "name": "python3",
      "display_name": "Python 3"
    },
    "language_info": {
      "name": "python"
    }
  },
  "cells": [
    {
      "cell_type": "markdown",
      "source": [
        "Project: 00_joke_bot"
      ],
      "metadata": {
        "id": "oWTNycHDNGBC"
      }
    },
    {
      "cell_type": "code",
      "source": [
        "PROMPT: str = str(input(\"What do you want? \"))\n",
        "JOKE: str = \"Here is a joke for you! Sophia is heading out to the grocery store. A programmer tells her: get a liter of milk, and if they have eggs, get 12. Sophia returns with 13 liters of milk. The programmer asks why and Sophia replies: 'because they had eggs'\"\n",
        "SORRY: str = \"Sorry I only tell jokes.\"\n",
        "\n",
        "\n",
        "def main():\n",
        "\n",
        "    user_input = PROMPT.lower().strip()\n",
        "\n",
        "    if \"joke\" in user_input :\n",
        "        print(JOKE)\n",
        "    else:\n",
        "        print(SORRY)\n",
        "\n",
        "\n",
        "if __name__ == \"__main__\":\n",
        "    main()"
      ],
      "metadata": {
        "colab": {
          "base_uri": "https://localhost:8080/"
        },
        "id": "ehnQ3GfmNLNY",
        "outputId": "18d9de6b-8648-4add-bc73-613eca4cef9f"
      },
      "execution_count": 1,
      "outputs": [
        {
          "output_type": "stream",
          "name": "stdout",
          "text": [
            "What do you want? Joke\n",
            "Here is a joke for you! Sophia is heading out to the grocery store. A programmer tells her: get a liter of milk, and if they have eggs, get 12. Sophia returns with 13 liters of milk. The programmer asks why and Sophia replies: 'because they had eggs'\n"
          ]
        }
      ]
    },
    {
      "cell_type": "markdown",
      "source": [
        "Project: 01_double_it"
      ],
      "metadata": {
        "id": "y4nMeBeqNP_1"
      }
    },
    {
      "cell_type": "code",
      "source": [
        "def main():\n",
        "  num = int(input(\"Enter a number: \"))\n",
        "  while num <= 100 :\n",
        "     num = num * 2\n",
        "     print(num)\n",
        "\n",
        "\n",
        "if __name__ == \"__main__\":\n",
        "    main()"
      ],
      "metadata": {
        "colab": {
          "base_uri": "https://localhost:8080/"
        },
        "id": "N9s9IP3MNWIA",
        "outputId": "84a9ac69-cacc-49ee-e82d-5e5048743093"
      },
      "execution_count": 2,
      "outputs": [
        {
          "output_type": "stream",
          "name": "stdout",
          "text": [
            "Enter a number: 4\n",
            "8\n",
            "16\n",
            "32\n",
            "64\n",
            "128\n"
          ]
        }
      ]
    },
    {
      "cell_type": "markdown",
      "source": [
        "Project: 02_lift_off"
      ],
      "metadata": {
        "id": "Q0sOwkw6NnNL"
      }
    },
    {
      "cell_type": "code",
      "source": [
        "import time\n",
        "from IPython.display import clear_output\n",
        "\n",
        "def countdown_timer(seconds):\n",
        "    while seconds:\n",
        "        mins, secs = divmod(seconds, 60)\n",
        "        timer = f'{mins:02}:{secs:02}'\n",
        "        clear_output(wait=True)\n",
        "        print(timer)\n",
        "        time.sleep(1)\n",
        "        seconds -= 1\n",
        "\n",
        "    clear_output(wait=True)\n",
        "    print(\"Lift Off!\")\n",
        "\n",
        "seconds = 10\n",
        "countdown_timer(seconds)\n"
      ],
      "metadata": {
        "colab": {
          "base_uri": "https://localhost:8080/"
        },
        "id": "CUqG6NgdOC8G",
        "outputId": "14beb734-e09e-499f-dc1f-0ccd85e212f3"
      },
      "execution_count": 12,
      "outputs": [
        {
          "output_type": "stream",
          "name": "stdout",
          "text": [
            "Lift Off!\n"
          ]
        }
      ]
    },
    {
      "cell_type": "markdown",
      "source": [
        "Project: 03_guess_my_number"
      ],
      "metadata": {
        "id": "96-CossnP22Q"
      }
    },
    {
      "cell_type": "code",
      "source": [
        "import random\n",
        "\n",
        "\n",
        "def guess_the_number():\n",
        "\n",
        "    number = random.randint(1, 100)\n",
        "    guesses_left = 7\n",
        "\n",
        "    print(\"Welcome to Guess The Number Game (computer)!\")\n",
        "    print('I am thinking a number between 1 to 100...')\n",
        "\n",
        "\n",
        "    while guesses_left > 0:\n",
        "        print(f'\\n You have {guesses_left} guesses left')\n",
        "        try:\n",
        "           guess = int(input('Guess the number: '))\n",
        "        except ValueError:\n",
        "            print('Invalid input. Please enter a number')\n",
        "            continue\n",
        "\n",
        "\n",
        "\n",
        "        if guess<number :\n",
        "             print('Too Low Number')\n",
        "        elif guess > number :\n",
        "             print('Too High Number')\n",
        "        else :\n",
        "             print(f'Congratulations! You got the correct number in {guesses_left} out of 7 guesses')\n",
        "\n",
        "\n",
        "\n",
        "        guesses_left -= 1\n",
        "    if guesses_left == 0:\n",
        "        print(f'You ran out of tries. The number was {number}')\n",
        "\n",
        "guess_the_number()"
      ],
      "metadata": {
        "colab": {
          "base_uri": "https://localhost:8080/"
        },
        "id": "3rDGUIYFRvnV",
        "outputId": "f1c5c645-b688-45d1-bd8b-f5a28746c3ce"
      },
      "execution_count": 13,
      "outputs": [
        {
          "output_type": "stream",
          "name": "stdout",
          "text": [
            "Welcome to Guess The Number Game (computer)!\n",
            "I am thinking a number between 1 to 100...\n",
            "\n",
            " You have 7 guesses left\n",
            "Guess the number: 34\n",
            "Too High Number\n",
            "\n",
            " You have 6 guesses left\n",
            "Guess the number: 54\n",
            "Too High Number\n",
            "\n",
            " You have 5 guesses left\n",
            "Guess the number: 32\n",
            "Too High Number\n",
            "\n",
            " You have 4 guesses left\n",
            "Guess the number: 26\n",
            "Too High Number\n",
            "\n",
            " You have 3 guesses left\n",
            "Guess the number: 12\n",
            "Too Low Number\n",
            "\n",
            " You have 2 guesses left\n",
            "Guess the number: 20\n",
            "Too High Number\n",
            "\n",
            " You have 1 guesses left\n",
            "Guess the number: 15\n",
            "Too Low Number\n",
            "You ran out of tries. The number was 17\n"
          ]
        }
      ]
    },
    {
      "cell_type": "markdown",
      "source": [
        "Project: 04_random_numbers"
      ],
      "metadata": {
        "id": "0ACO_bZUR-7A"
      }
    },
    {
      "cell_type": "code",
      "source": [
        "import random\n",
        "\n",
        "def main():\n",
        "  number_of_values = 0\n",
        "\n",
        "  while number_of_values < 10:\n",
        "      number = random.randint(1, 100)\n",
        "      print(number)\n",
        "      number_of_values += 1\n",
        "\n",
        "\n",
        "if __name__ == '__main__':\n",
        "    main()"
      ],
      "metadata": {
        "colab": {
          "base_uri": "https://localhost:8080/"
        },
        "id": "Em_UrsCGSgHX",
        "outputId": "01cb2fae-7b49-4833-c6a6-ad5b65dfdf32"
      },
      "execution_count": 18,
      "outputs": [
        {
          "output_type": "stream",
          "name": "stdout",
          "text": [
            "39\n",
            "9\n",
            "37\n",
            "49\n",
            "96\n",
            "29\n",
            "61\n",
            "75\n",
            "72\n",
            "44\n"
          ]
        }
      ]
    }
  ]
}